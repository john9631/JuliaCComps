{
 "metadata": {
  "language": "Julia",
  "name": ""
 },
 "nbformat": 3,
 "nbformat_minor": 0,
 "worksheets": [
  {
   "cells": [
    {
     "cell_type": "heading",
     "level": 1,
     "metadata": {},
     "source": [
      "Project to Develop Conditional Comprehensions for Julia"
     ]
    },
    {
     "cell_type": "markdown",
     "metadata": {},
     "source": [
      "This follows the discussion in @pao's [JuliaLang issue](https://github.com/JuliaLang/julia/issues/550).\n",
      "\n",
      "Major Challenges:  \n",
      "- understanding how Julia parses code  \n",
      "- generating solutions  \n",
      "- generating a solution that meets Jeff's standards.  \n",
      "\n",
      "Phases:  \n",
      "\n",
      "- Review documentation and experiment with alternatives  \n",
      "- Investigate how comprehension syntax is implemented in Julia  \n",
      "- Development order\n",
      "    \n",
      "    - Review some alternatives and equivalent PEP syntax\n",
      "    - Vector or list comprehension with if condition as in [PEP 202](http://www.python.org/dev/peps/pep-0202/)  \n",
      "    - Possibly add while condition as in [PEP 3142](http://www.python.org/dev/peps/pep-3142/)  \n",
      "    - Dict comprehension as in [PEP 274](http://www.python.org/dev/peps/pep-3142/)  \n",
      "    - Extension to Multi-dimensional Arrays  \n",
      "- Timescale unknown.  \n",
      "- Commencing November 14 2013"
     ]
    },
    {
     "cell_type": "heading",
     "level": 2,
     "metadata": {},
     "source": [
      "1. Alternatives"
     ]
    },
    {
     "cell_type": "code",
     "collapsed": false,
     "input": [
      "v = [1:10]\n",
      "l = {v...} ; l[3]=\"3\" ;  l[7]=\"7\"\n",
      "nums = [2, 4, 3, -3, 8, 1, 6]\n",
      "\n",
      "fff(x) = x\n",
      "cff(x) = x%2 == 0\n",
      "\n",
      "[fff(x) for x=nums[nums.>4]]  #  [f(x) for x in nums if x>4]\n",
      "[fff(x) for x=filter(i->i%2==0, nums)]  #  [f(x) for x in nums if x%2==0]\n",
      "#[f(x) for x in nums if x%2==0]\n",
      "function clistcomp(list, f, cff)\n",
      "  out = Int64[]\n",
      "  for x in list\n",
      "    if cff(x)\n",
      "      push!(out,f(x))\n",
      "    end\n",
      "  end\n",
      "  return out\n",
      "end\n",
      "\n",
      "z = clistcomp(1:20,fff,cff)\n",
      "\n",
      "#[f(x) for x in nums while x<5]\n",
      "function wclistcomp(list, f, wff)\n",
      "  out = {}\n",
      "  for x in nums\n",
      "    if cff(x)\n",
      "      push!(out,f(x))\n",
      "    else\n",
      "      break\n",
      "    end\n",
      "  end\n",
      "  return out\n",
      "end\n",
      "\n",
      "#[f(x) for x in nums if x>2 while x<5]\n",
      "function iwclistcomp(list, f, cff, wff)\n",
      "  out = {}\n",
      "  for x in nums\n",
      "    if cff(x)\n",
      "    if wff(x)\n",
      "      push!(out,f(x))\n",
      "    else\n",
      "      break\n",
      "    end\n",
      "    end\n",
      "  end\n",
      "  return out\n",
      "end\n",
      "\n",
      "#[f(x) for x in nums while x<5 if x>2]\n",
      "function wiclistcomp(list, f, cff, wff)\n",
      "  out = {}\n",
      "  for x in nums\n",
      "    if cff(x)\n",
      "      if wff(x)\n",
      "        push!(out,f(x))\n",
      "      end\n",
      "    else\n",
      "      break\n",
      "    end\n",
      "  end\n",
      "  return out\n",
      "end ;"
     ],
     "language": "python",
     "metadata": {},
     "outputs": []
    },
    {
     "cell_type": "heading",
     "level": 2,
     "metadata": {},
     "source": [
      "2. Current Implementations"
     ]
    },
    {
     "cell_type": "markdown",
     "metadata": {},
     "source": [
      "**Stage 2** turns out to start with learning lisp so that I can hack the Julia parser.  Jeff wrote a tiny fast lisp called FemptoLisp which you can find in your julia directories.  I've now got a symlink to flisp and its off to google and then Jeff's manual to learn this little beauty.\n",
      "\n",
      "Fun Fact:  Lisp is the second oldest high level programming language.\n",
      "\n",
      "From the readme:\n",
      "\n",
      "*Almost everybody has their own lisp implementation. Some programmers dogs and cats probably have their own lisp implementations as well. This is great, but too often I see people omit some of the obscure but critical features that make lisp uniquely wonderful. These include read macros like #. and backreferences, gensyms, and properly escaped symbol names. If you're going to waste everybody's time with yet another lisp, at least do it right damnit.*\n",
      "\n",
      "Also studying some existing Julia functions like filter and map."
     ]
    },
    {
     "cell_type": "code",
     "collapsed": false,
     "input": [],
     "language": "python",
     "metadata": {},
     "outputs": []
    }
   ],
   "metadata": {}
  }
 ]
}