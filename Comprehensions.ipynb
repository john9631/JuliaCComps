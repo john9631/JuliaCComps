{
 "metadata": {
  "language": "Julia",
  "name": ""
 },
 "nbformat": 3,
 "nbformat_minor": 0,
 "worksheets": [
  {
   "cells": [
    {
     "cell_type": "heading",
     "level": 1,
     "metadata": {},
     "source": [
      "Project to Develop Conditional Comprehensions for Julia"
     ]
    },
    {
     "cell_type": "markdown",
     "metadata": {},
     "source": [
      "This follows the discussion in @pao's [JuliaLang issue](https://github.com/JuliaLang/julia/issues/550).\n",
      "\n",
      "Major Challenges:  \n",
      "- understanding how Julia parses code  \n",
      "- generating solutions  \n",
      "- generating a solution that meets Jeff's standards.  \n",
      "\n",
      "Phases:  \n",
      "\n",
      "- Review documentation and experiment with alternatives  \n",
      "- Investigate how comprehension syntax is implemented in Julia  \n",
      "- Development order\n",
      "    \n",
      "    - Review some alternatives and equivalent PEP syntax\n",
      "    - Vector or list comprehension with if condition as in [PEP 202](http://www.python.org/dev/peps/pep-0202/)  \n",
      "    - Possibly add while condition as in [PEP 3142](http://www.python.org/dev/peps/pep-3142/)  \n",
      "    - Dict comprehension as in [PEP 274](http://www.python.org/dev/peps/pep-3142/)  \n",
      "    - Extension to Multi-dimensional Arrays  \n",
      "- Timescale unknown.  \n",
      "- Commencing November 14 2013"
     ]
    },
    {
     "cell_type": "heading",
     "level": 2,
     "metadata": {},
     "source": [
      "1. Alternatives"
     ]
    },
    {
     "cell_type": "code",
     "collapsed": false,
     "input": [
      "v = [1:10]\n",
      "l = {v...} ; l[3]=\"3\" ;  l[7]=\"7\"\n",
      "nums = [2, 8, 1, 6]\n",
      "[x for x=nums[nums.>4]]  #  [f(x) for x in nums if x>4]\n",
      "[x for x=filter(i->i%2==0, nums)]  #  [f(x) for x in nums if x%2==0]\n",
      "\n",
      "out = []\n",
      "for x in nums\n",
      "  if x%2 == 0\n",
      "    out = [out,x]\n",
      "  end\n",
      "end\n",
      "nums = out\n",
      "  "
     ],
     "language": "python",
     "metadata": {},
     "outputs": [
      {
       "metadata": {},
       "output_type": "pyout",
       "prompt_number": 57,
       "text": [
        "3-element Array{Int64,1}:\n",
        " 2\n",
        " 8\n",
        " 6"
       ]
      }
     ],
     "prompt_number": 57
    },
    {
     "cell_type": "code",
     "collapsed": false,
     "input": [],
     "language": "python",
     "metadata": {},
     "outputs": [],
     "prompt_number": 58
    },
    {
     "cell_type": "code",
     "collapsed": false,
     "input": [],
     "language": "python",
     "metadata": {},
     "outputs": [],
     "prompt_number": 44
    },
    {
     "cell_type": "code",
     "collapsed": false,
     "input": [],
     "language": "python",
     "metadata": {},
     "outputs": []
    }
   ],
   "metadata": {}
  }
 ]
}